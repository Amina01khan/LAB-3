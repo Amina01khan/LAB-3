{
  "nbformat": 4,
  "nbformat_minor": 0,
  "metadata": {
    "colab": {
      "provenance": [],
      "authorship_tag": "ABX9TyP1CRPSHvO5+OPXIBQKg2D/",
      "include_colab_link": true
    },
    "kernelspec": {
      "name": "python3",
      "display_name": "Python 3"
    },
    "language_info": {
      "name": "python"
    }
  },
  "cells": [
    {
      "cell_type": "markdown",
      "metadata": {
        "id": "view-in-github",
        "colab_type": "text"
      },
      "source": [
        "<a href=\"https://colab.research.google.com/github/Amina01khan/LAB-3/blob/main/File.ipynb\" target=\"_parent\"><img src=\"https://colab.research.google.com/assets/colab-badge.svg\" alt=\"Open In Colab\"/></a>"
      ]
    },
    {
      "cell_type": "code",
      "execution_count": 6,
      "metadata": {
        "colab": {
          "base_uri": "https://localhost:8080/"
        },
        "id": "5enVLIh2z5IX",
        "outputId": "45320c48-1395-4001-8afe-12c28370b9ee"
      },
      "outputs": [
        {
          "output_type": "stream",
          "name": "stdout",
          "text": [
            "Epoch 1/10\n",
            "1875/1875 [==============================] - 55s 29ms/step - loss: 0.1488 - accuracy: 0.9533 - val_loss: 0.0512 - val_accuracy: 0.9830\n",
            "Epoch 2/10\n",
            "1875/1875 [==============================] - 53s 28ms/step - loss: 0.0462 - accuracy: 0.9858 - val_loss: 0.0335 - val_accuracy: 0.9886\n",
            "Epoch 3/10\n",
            "1875/1875 [==============================] - 53s 28ms/step - loss: 0.0333 - accuracy: 0.9897 - val_loss: 0.0403 - val_accuracy: 0.9871\n",
            "Epoch 4/10\n",
            "1875/1875 [==============================] - 55s 29ms/step - loss: 0.0252 - accuracy: 0.9920 - val_loss: 0.0373 - val_accuracy: 0.9889\n",
            "Epoch 5/10\n",
            "1875/1875 [==============================] - 55s 29ms/step - loss: 0.0209 - accuracy: 0.9931 - val_loss: 0.0368 - val_accuracy: 0.9900\n",
            "Epoch 6/10\n",
            "1875/1875 [==============================] - 56s 30ms/step - loss: 0.0162 - accuracy: 0.9947 - val_loss: 0.0272 - val_accuracy: 0.9915\n",
            "Epoch 7/10\n",
            "1875/1875 [==============================] - 53s 28ms/step - loss: 0.0123 - accuracy: 0.9961 - val_loss: 0.0340 - val_accuracy: 0.9905\n",
            "Epoch 8/10\n",
            "1875/1875 [==============================] - 53s 28ms/step - loss: 0.0121 - accuracy: 0.9962 - val_loss: 0.0354 - val_accuracy: 0.9904\n",
            "Epoch 9/10\n",
            "1875/1875 [==============================] - 54s 29ms/step - loss: 0.0106 - accuracy: 0.9965 - val_loss: 0.0330 - val_accuracy: 0.9924\n",
            "Epoch 10/10\n",
            "1875/1875 [==============================] - 53s 28ms/step - loss: 0.0088 - accuracy: 0.9970 - val_loss: 0.0321 - val_accuracy: 0.9924\n",
            "Epoch 1/10\n",
            "1563/1563 [==============================] - 75s 47ms/step - loss: 1.4520 - accuracy: 0.4700 - val_loss: 1.1960 - val_accuracy: 0.5713\n",
            "Epoch 2/10\n",
            "1563/1563 [==============================] - 74s 48ms/step - loss: 1.0707 - accuracy: 0.6195 - val_loss: 0.9933 - val_accuracy: 0.6477\n",
            "Epoch 3/10\n",
            "1563/1563 [==============================] - 74s 47ms/step - loss: 0.9084 - accuracy: 0.6793 - val_loss: 0.9340 - val_accuracy: 0.6730\n",
            "Epoch 4/10\n",
            "1563/1563 [==============================] - 74s 47ms/step - loss: 0.7953 - accuracy: 0.7199 - val_loss: 0.8933 - val_accuracy: 0.6852\n",
            "Epoch 5/10\n",
            "1563/1563 [==============================] - 79s 50ms/step - loss: 0.7097 - accuracy: 0.7509 - val_loss: 0.8613 - val_accuracy: 0.7066\n",
            "Epoch 6/10\n",
            "1563/1563 [==============================] - 74s 47ms/step - loss: 0.6322 - accuracy: 0.7795 - val_loss: 0.8541 - val_accuracy: 0.7216\n",
            "Epoch 7/10\n",
            "1563/1563 [==============================] - 72s 46ms/step - loss: 0.5612 - accuracy: 0.8023 - val_loss: 0.8617 - val_accuracy: 0.7186\n",
            "Epoch 8/10\n",
            "1563/1563 [==============================] - 74s 47ms/step - loss: 0.4991 - accuracy: 0.8232 - val_loss: 0.9122 - val_accuracy: 0.7142\n",
            "Epoch 9/10\n",
            "1563/1563 [==============================] - 75s 48ms/step - loss: 0.4362 - accuracy: 0.8460 - val_loss: 0.9304 - val_accuracy: 0.7131\n",
            "Epoch 10/10\n",
            "1563/1563 [==============================] - 72s 46ms/step - loss: 0.3787 - accuracy: 0.8637 - val_loss: 0.9908 - val_accuracy: 0.7075\n"
          ]
        }
      ],
      "source": [
        "import tensorflow as tf\n",
        "from tensorflow.keras import datasets, layers, models\n",
        "import matplotlib.pyplot as plt\n",
        "# Load MNIST dataset\n",
        "(mnist_train_images, mnist_train_labels), (mnist_test_images, mnist_test_labels) = datasets.mnist.load_data()\n",
        "\n",
        "# Normalize pixel values to be between 0 and 1\n",
        "mnist_train_images = mnist_train_images / 255.0\n",
        "mnist_test_images = mnist_test_images / 255.0\n",
        "\n",
        "# Add a channel dimension for MNIST (from (28, 28) to (28, 28, 1))\n",
        "mnist_train_images = mnist_train_images[..., tf.newaxis]\n",
        "mnist_test_images = mnist_test_images[..., tf.newaxis]\n",
        "\n",
        "# Load CIFAR-10 dataset\n",
        "(cifar_train_images, cifar_train_labels), (cifar_test_images, cifar_test_labels) = datasets.cifar10.load_data()\n",
        "\n",
        "# Normalize pixel values to be between 0 and 1\n",
        "cifar_train_images = cifar_train_images / 255.0\n",
        "cifar_test_images = cifar_test_images / 255.0\n",
        "\n",
        "def create_mnist_cnn():\n",
        "    model = models.Sequential([\n",
        "        layers.Conv2D(32, (3, 3), activation='relu', input_shape=(28, 28, 1)),\n",
        "        layers.MaxPooling2D((2, 2)),\n",
        "        layers.Conv2D(64, (3, 3), activation='relu'),\n",
        "        layers.MaxPooling2D((2, 2)),\n",
        "        layers.Conv2D(64, (3, 3), activation='relu'),\n",
        "        layers.Flatten(),\n",
        "        layers.Dense(64, activation='relu'),\n",
        "        layers.Dense(10, activation='softmax')\n",
        "    ])\n",
        "    return model\n",
        "def create_cifar_cnn():\n",
        "    model = models.Sequential([\n",
        "        layers.Conv2D(32, (3, 3), activation='relu', input_shape=(32, 32, 3)),\n",
        "        layers.MaxPooling2D((2, 2)),\n",
        "        layers.Conv2D(64, (3, 3), activation='relu'),\n",
        "        layers.MaxPooling2D((2, 2)),\n",
        "        layers.Conv2D(128, (3, 3), activation='relu'),\n",
        "        layers.Flatten(),\n",
        "        layers.Dense(128, activation='relu'),\n",
        "        layers.Dense(10, activation='softmax')\n",
        "    ])\n",
        "    return model\n",
        "# MNIST model\n",
        "mnist_model = create_mnist_cnn()\n",
        "mnist_model.compile(optimizer='adam',\n",
        "                    loss='sparse_categorical_crossentropy',\n",
        "                    metrics=['accuracy'])\n",
        "\n",
        "# CIFAR-10 model\n",
        "cifar_model = create_cifar_cnn()\n",
        "cifar_model.compile(optimizer='adam',\n",
        "                    loss='sparse_categorical_crossentropy',\n",
        "                    metrics=['accuracy'])\n",
        "\n",
        "# Train MNIST model\n",
        "mnist_history = mnist_model.fit(mnist_train_images, mnist_train_labels, epochs=10,\n",
        "                                validation_data=(mnist_test_images, mnist_test_labels))\n",
        "\n",
        "# Train CIFAR-10 model\n",
        "cifar_history = cifar_model.fit(cifar_train_images, cifar_train_labels, epochs=10,\n",
        "                                validation_data=(cifar_test_images, cifar_test_labels))\n",
        "# Evaluate MNIST model\n",
        "mnist_test_loss, mnist_test_acc = mnist_model.evaluate(mnist_test_images, mnist_test_labels, verbose=2)\n",
        "print(f'MNIST Test accuracy: {mnist_test_acc}')\n",
        "\n",
        "# Evaluate CIFAR-10 model\n",
        "cifar_test_loss, cifar_test_acc = cifar_model.evaluate(cifar_test_images, cifar_test_labels, verbose=2)\n",
        "print(f'CIFAR-10 Test accuracy: {cifar_test_acc}')\n",
        "\n"
      ]
    },
    {
      "cell_type": "code",
      "source": [
        "def create_mnist_cnn_with_dropout():\n",
        "    model = models.Sequential([\n",
        "        layers.Conv2D(32, (3, 3), activation='relu', input_shape=(28, 28, 1)),\n",
        "        layers.MaxPooling2D((2, 2)),\n",
        "        layers.Conv2D(64, (3, 3), activation='relu'),\n",
        "        layers.MaxPooling2D((2, 2)),\n",
        "        layers.Conv2D(64, (3, 3), activation='relu'),\n",
        "        layers.Flatten(),\n",
        "        layers.Dense(64, activation='relu'),\n",
        "        layers.Dropout(0.5),\n",
        "        layers.Dense(10, activation='softmax')\n",
        "    ])\n",
        "    return model\n",
        "\n",
        "# Compile and train the modified MNIST model\n",
        "mnist_model_with_dropout = create_mnist_cnn_with_dropout()\n",
        "mnist_model_with_dropout.compile(optimizer='adam',\n",
        "                                 loss='sparse_categorical_crossentropy',\n",
        "                                 metrics=['accuracy'])\n",
        "\n",
        "mnist_history_with_dropout = mnist_model_with_dropout.fit(mnist_train_images, mnist_train_labels, epochs=10,\n",
        "                                                          validation_data=(mnist_test_images, mnist_test_labels))\n"
      ],
      "metadata": {
        "colab": {
          "base_uri": "https://localhost:8080/"
        },
        "id": "NZMHVlQ66c8O",
        "outputId": "cb49638a-cdf5-4a19-83cd-68b42b2fec4b"
      },
      "execution_count": 7,
      "outputs": [
        {
          "output_type": "stream",
          "name": "stdout",
          "text": [
            "Epoch 1/10\n",
            "1875/1875 [==============================] - 61s 32ms/step - loss: 0.2878 - accuracy: 0.9133 - val_loss: 0.0447 - val_accuracy: 0.9865\n",
            "Epoch 2/10\n",
            "1875/1875 [==============================] - 54s 29ms/step - loss: 0.0933 - accuracy: 0.9738 - val_loss: 0.0372 - val_accuracy: 0.9884\n",
            "Epoch 3/10\n",
            "1875/1875 [==============================] - 54s 29ms/step - loss: 0.0679 - accuracy: 0.9811 - val_loss: 0.0399 - val_accuracy: 0.9875\n",
            "Epoch 4/10\n",
            "1875/1875 [==============================] - 54s 29ms/step - loss: 0.0524 - accuracy: 0.9852 - val_loss: 0.0440 - val_accuracy: 0.9873\n",
            "Epoch 5/10\n",
            "1875/1875 [==============================] - 56s 30ms/step - loss: 0.0459 - accuracy: 0.9871 - val_loss: 0.0304 - val_accuracy: 0.9906\n",
            "Epoch 6/10\n",
            "1875/1875 [==============================] - 54s 29ms/step - loss: 0.0355 - accuracy: 0.9899 - val_loss: 0.0369 - val_accuracy: 0.9909\n",
            "Epoch 7/10\n",
            "1875/1875 [==============================] - 55s 29ms/step - loss: 0.0304 - accuracy: 0.9913 - val_loss: 0.0322 - val_accuracy: 0.9918\n",
            "Epoch 8/10\n",
            "1875/1875 [==============================] - 53s 28ms/step - loss: 0.0267 - accuracy: 0.9916 - val_loss: 0.0273 - val_accuracy: 0.9928\n",
            "Epoch 9/10\n",
            "1875/1875 [==============================] - 53s 28ms/step - loss: 0.0251 - accuracy: 0.9930 - val_loss: 0.0306 - val_accuracy: 0.9923\n",
            "Epoch 10/10\n",
            "1875/1875 [==============================] - 55s 29ms/step - loss: 0.0234 - accuracy: 0.9934 - val_loss: 0.0341 - val_accuracy: 0.9917\n"
          ]
        }
      ]
    }
  ]
}